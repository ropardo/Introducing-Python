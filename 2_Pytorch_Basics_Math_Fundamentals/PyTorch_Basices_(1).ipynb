{
  "nbformat": 4,
  "nbformat_minor": 0,
  "metadata": {
    "colab": {
      "provenance": [],
      "gpuType": "T4",
      "include_colab_link": true
    },
    "kernelspec": {
      "name": "python3",
      "display_name": "Python 3"
    },
    "language_info": {
      "name": "python"
    },
    "accelerator": "GPU"
  },
  "cells": [
    {
      "cell_type": "markdown",
      "metadata": {
        "id": "view-in-github",
        "colab_type": "text"
      },
      "source": [
        "<a href=\"https://colab.research.google.com/github/ropardo/Introducing-Python/blob/master/2_Pytorch_Basics_Math_Fundamentals/PyTorch_Basices_(1).ipynb\" target=\"_parent\"><img src=\"https://colab.research.google.com/assets/colab-badge.svg\" alt=\"Open In Colab\"/></a>"
      ]
    },
    {
      "cell_type": "markdown",
      "source": [
        "# 2.\tPytorch Basics and Math Fundamentals (Part 1)\n",
        "\n",
        "\n",
        "\n",
        "*   2.1 Tensor and Vector\n",
        "*   2.2 Tensor and Matrix\n",
        "*   2.3 Dot Product\n",
        "*   2.4 Softmax\n",
        "\n",
        "\n"
      ],
      "metadata": {
        "id": "HMqowftlhoS2"
      }
    },
    {
      "cell_type": "code",
      "source": [
        "import torch\n",
        "import platform\n",
        "import sys\n",
        "\n",
        "# Check if CUDA is available\n",
        "cuda_available = torch.cuda.is_available()\n",
        "print(f\"CUDA Available: {cuda_available}\")\n",
        "\n",
        "if cuda_available:\n",
        "    # Get CUDA version\n",
        "    cuda_version = torch.version.cuda\n",
        "    print(f\"CUDA Version: {cuda_version}\")\n",
        "\n",
        "    # Check number of GPUs\n",
        "    gpu_count = torch.cuda.device_count()\n",
        "    print(f\"Number of GPUs: {gpu_count}\")\n",
        "\n",
        "    # Get GPU details\n",
        "    for i in range(gpu_count):\n",
        "        gpu_name = torch.cuda.get_device_name(i)\n",
        "        print(f\"GPU {i}: {gpu_name}\")\n",
        "else:\n",
        "    print(\"CUDA is not available. Ensure a GPU and CUDA toolkit are properly installed.\")\n",
        "\n",
        "# Get PyTorch version\n",
        "pytorch_version = torch.__version__\n",
        "print(f\"PyTorch Version: {pytorch_version}\")\n",
        "\n",
        "# Get Python version\n",
        "python_version = sys.version\n",
        "print(f\"Python Version: {python_version}\")\n",
        "\n",
        "# Check if a tensor can be moved to the GPU\n",
        "if cuda_available:\n",
        "    try:\n",
        "        test_tensor = torch.tensor([1.0, 2.0, 3.0], device=\"cuda\")\n",
        "        print(\"Tensor successfully moved to GPU.\")\n",
        "    except Exception as e:\n",
        "        print(f\"Failed to move tensor to GPU: {e}\")\n",
        "else:\n",
        "    print(\"No GPU available to test tensor movement.\")"
      ],
      "metadata": {
        "id": "80gi5VyWbczP",
        "outputId": "a5404683-0dbd-4ed0-f39a-a8611f0e54d4",
        "colab": {
          "base_uri": "https://localhost:8080/"
        }
      },
      "execution_count": 2,
      "outputs": [
        {
          "output_type": "stream",
          "name": "stdout",
          "text": [
            "CUDA Available: True\n",
            "CUDA Version: 12.1\n",
            "Number of GPUs: 1\n",
            "GPU 0: Tesla T4\n",
            "PyTorch Version: 2.5.1+cu121\n",
            "Python Version: 3.10.12 (main, Nov  6 2024, 20:22:13) [GCC 11.4.0]\n",
            "Tensor successfully moved to GPU.\n"
          ]
        }
      ]
    },
    {
      "cell_type": "code",
      "execution_count": 4,
      "metadata": {
        "id": "ngWZK5NEDNzT"
      },
      "outputs": [],
      "source": [
        "import torch\n",
        "import torch.nn as nn"
      ]
    },
    {
      "cell_type": "markdown",
      "source": [
        "## 2.1\tTensor and Vector"
      ],
      "metadata": {
        "id": "b5apiHw_iaFz"
      }
    },
    {
      "cell_type": "code",
      "source": [
        "vector = torch.tensor([2., 3., 4.])\n",
        "print(\"Vector:\", vector)"
      ],
      "metadata": {
        "id": "iZsECai-M31e",
        "outputId": "063cd564-6802-4d4d-b32a-1640a786707b",
        "colab": {
          "base_uri": "https://localhost:8080/"
        }
      },
      "execution_count": 5,
      "outputs": [
        {
          "output_type": "stream",
          "name": "stdout",
          "text": [
            "Vector: tensor([2., 3., 4.])\n"
          ]
        }
      ]
    },
    {
      "cell_type": "code",
      "source": [
        "torch.norm(vector)"
      ],
      "metadata": {
        "id": "c4mQ0fu8NHoc",
        "outputId": "706f02d3-16a2-4009-ebaf-900a91b3dfeb",
        "colab": {
          "base_uri": "https://localhost:8080/"
        }
      },
      "execution_count": 6,
      "outputs": [
        {
          "output_type": "execute_result",
          "data": {
            "text/plain": [
              "tensor(5.3852)"
            ]
          },
          "metadata": {},
          "execution_count": 6
        }
      ]
    },
    {
      "cell_type": "code",
      "source": [
        "randint = torch.randint(-100, 100, (6,))\n",
        "randint"
      ],
      "metadata": {
        "colab": {
          "base_uri": "https://localhost:8080/"
        },
        "id": "EX_UFv8rDgtr",
        "outputId": "d818f5c7-135b-4fee-b254-c78df221c62b"
      },
      "execution_count": 7,
      "outputs": [
        {
          "output_type": "execute_result",
          "data": {
            "text/plain": [
              "tensor([-52, -57, -62, -65, -49,  90])"
            ]
          },
          "metadata": {},
          "execution_count": 7
        }
      ]
    },
    {
      "cell_type": "code",
      "source": [
        "empty = torch.empty(3)\n",
        "empty"
      ],
      "metadata": {
        "id": "cMd16YAPiOwt",
        "outputId": "e3f7d459-4313-47bf-a743-dc99a142a4cf",
        "colab": {
          "base_uri": "https://localhost:8080/"
        }
      },
      "execution_count": 8,
      "outputs": [
        {
          "output_type": "execute_result",
          "data": {
            "text/plain": [
              "tensor([4.7851e+22, 2.8826e+32, 4.4248e+30])"
            ]
          },
          "metadata": {},
          "execution_count": 8
        }
      ]
    },
    {
      "cell_type": "code",
      "source": [
        "arange = torch.arange(5)\n",
        "arange"
      ],
      "metadata": {
        "colab": {
          "base_uri": "https://localhost:8080/"
        },
        "id": "OGftfMlvEVN6",
        "outputId": "ad59c9f1-ce59-4a46-fd22-3dbebd0373e4"
      },
      "execution_count": 9,
      "outputs": [
        {
          "output_type": "execute_result",
          "data": {
            "text/plain": [
              "tensor([0, 1, 2, 3, 4])"
            ]
          },
          "metadata": {},
          "execution_count": 9
        }
      ]
    },
    {
      "cell_type": "code",
      "source": [
        "arange = torch.arange(start=0, end=5, step=1)\n",
        "arange"
      ],
      "metadata": {
        "id": "m5zgn8Ktie_Z",
        "outputId": "9388e1c1-ca24-4054-e2ce-b80a8eb9d327",
        "colab": {
          "base_uri": "https://localhost:8080/"
        }
      },
      "execution_count": 10,
      "outputs": [
        {
          "output_type": "execute_result",
          "data": {
            "text/plain": [
              "tensor([0, 1, 2, 3, 4])"
            ]
          },
          "metadata": {},
          "execution_count": 10
        }
      ]
    },
    {
      "cell_type": "code",
      "source": [
        "linspace = torch.linspace(3, 10, steps=5)     # no deberia llamarse step\n",
        "linspace"
      ],
      "metadata": {
        "colab": {
          "base_uri": "https://localhost:8080/"
        },
        "id": "umYLX2rCEa43",
        "outputId": "a1999d61-22d4-422b-dbc8-1bad0b1acbcd"
      },
      "execution_count": 16,
      "outputs": [
        {
          "output_type": "execute_result",
          "data": {
            "text/plain": [
              "tensor([ 3.0000,  4.7500,  6.5000,  8.2500, 10.0000])"
            ]
          },
          "metadata": {},
          "execution_count": 16
        }
      ]
    },
    {
      "cell_type": "code",
      "source": [
        "logspace = torch.logspace(start=-10, end=10, steps=5)\n",
        "logspace\n",
        "\n",
        "\n",
        "# torch.logspace(start, end, steps, base=10.0, *, out=None, dtype=None, layout=torch.strided, device=None, requires_grad=False)"
      ],
      "metadata": {
        "colab": {
          "base_uri": "https://localhost:8080/"
        },
        "id": "F9olvEhCEsM9",
        "outputId": "3ad38636-13ed-41d0-bbc9-6731237e736e"
      },
      "execution_count": 22,
      "outputs": [
        {
          "output_type": "execute_result",
          "data": {
            "text/plain": [
              "tensor([1.0000e-10, 1.0000e-05, 1.0000e+00, 1.0000e+05, 1.0000e+10])"
            ]
          },
          "metadata": {},
          "execution_count": 22
        }
      ]
    },
    {
      "cell_type": "markdown",
      "source": [
        "## 2.2\tTensor and Matrix"
      ],
      "metadata": {
        "id": "cMsgm10ihboG"
      }
    },
    {
      "cell_type": "code",
      "source": [
        "A = torch.tensor([[1., 2., 3., 4.],\n",
        "                  [2., 3., 4., 5.],\n",
        "                  [3., 4., 5., 6.]])\n",
        "A"
      ],
      "metadata": {
        "colab": {
          "base_uri": "https://localhost:8080/"
        },
        "id": "a-7Jyk9ZDsIu",
        "outputId": "60d2c006-53d8-44e5-cfdf-2e014e1ae0c9"
      },
      "execution_count": 23,
      "outputs": [
        {
          "output_type": "execute_result",
          "data": {
            "text/plain": [
              "tensor([[1., 2., 3., 4.],\n",
              "        [2., 3., 4., 5.],\n",
              "        [3., 4., 5., 6.]])"
            ]
          },
          "metadata": {},
          "execution_count": 23
        }
      ]
    },
    {
      "cell_type": "code",
      "source": [
        "zeros = torch.zeros(3, 4)\n",
        "print(\"zeros =\", zeros)\n",
        "\n",
        "ones = torch.ones(3, 4)\n",
        "print(\"ones =\", ones)"
      ],
      "metadata": {
        "colab": {
          "base_uri": "https://localhost:8080/"
        },
        "id": "kZlmZzjrEEHV",
        "outputId": "a090c23f-ffcc-4e17-dad8-e280f01eec8d"
      },
      "execution_count": 24,
      "outputs": [
        {
          "output_type": "stream",
          "name": "stdout",
          "text": [
            "zeros = tensor([[0., 0., 0., 0.],\n",
            "        [0., 0., 0., 0.],\n",
            "        [0., 0., 0., 0.]])\n",
            "ones = tensor([[1., 1., 1., 1.],\n",
            "        [1., 1., 1., 1.],\n",
            "        [1., 1., 1., 1.]])\n"
          ]
        }
      ]
    },
    {
      "cell_type": "code",
      "source": [
        "empty = torch.empty(2, 3)\n",
        "print(\"empty =\", empty)"
      ],
      "metadata": {
        "colab": {
          "base_uri": "https://localhost:8080/"
        },
        "id": "0daib5w5ENj6",
        "outputId": "e4feea63-5ee7-4692-e3c9-a95c90a6cad2"
      },
      "execution_count": 25,
      "outputs": [
        {
          "output_type": "stream",
          "name": "stdout",
          "text": [
            "empty = tensor([[9.1169e-30, 3.3159e-41, 9.1210e-30],\n",
            "        [3.3159e-41, 1.5196e-33, 3.3159e-41]])\n"
          ]
        }
      ]
    },
    {
      "cell_type": "code",
      "source": [
        "I = torch.eye(4)\n",
        "I"
      ],
      "metadata": {
        "colab": {
          "base_uri": "https://localhost:8080/"
        },
        "id": "KdtVndF_E7S-",
        "outputId": "a799c147-8fd3-4b27-fa06-ab4273c79ece"
      },
      "execution_count": 26,
      "outputs": [
        {
          "output_type": "execute_result",
          "data": {
            "text/plain": [
              "tensor([[1., 0., 0., 0.],\n",
              "        [0., 1., 0., 0.],\n",
              "        [0., 0., 1., 0.],\n",
              "        [0., 0., 0., 1.]])"
            ]
          },
          "metadata": {},
          "execution_count": 26
        }
      ]
    },
    {
      "cell_type": "code",
      "source": [
        "lower_tri = torch.tril(torch.ones(5, 5))\n",
        "lower_tri"
      ],
      "metadata": {
        "colab": {
          "base_uri": "https://localhost:8080/"
        },
        "id": "o3XJ5RJFFgng",
        "outputId": "f74eac67-6c76-414c-db5e-60f3ac2e5599"
      },
      "execution_count": 27,
      "outputs": [
        {
          "output_type": "execute_result",
          "data": {
            "text/plain": [
              "tensor([[1., 0., 0., 0., 0.],\n",
              "        [1., 1., 0., 0., 0.],\n",
              "        [1., 1., 1., 0., 0.],\n",
              "        [1., 1., 1., 1., 0.],\n",
              "        [1., 1., 1., 1., 1.]])"
            ]
          },
          "metadata": {},
          "execution_count": 27
        }
      ]
    },
    {
      "cell_type": "code",
      "source": [
        "upper_tri = torch.triu(torch.ones(5, 5))\n",
        "upper_tri"
      ],
      "metadata": {
        "id": "wtkblxJAK3iQ",
        "outputId": "7a9bcd7d-e02f-4098-bf76-a4fabf1f24c8",
        "colab": {
          "base_uri": "https://localhost:8080/"
        }
      },
      "execution_count": 28,
      "outputs": [
        {
          "output_type": "execute_result",
          "data": {
            "text/plain": [
              "tensor([[1., 1., 1., 1., 1.],\n",
              "        [0., 1., 1., 1., 1.],\n",
              "        [0., 0., 1., 1., 1.],\n",
              "        [0., 0., 0., 1., 1.],\n",
              "        [0., 0., 0., 0., 1.]])"
            ]
          },
          "metadata": {},
          "execution_count": 28
        }
      ]
    },
    {
      "cell_type": "code",
      "source": [
        "a = torch.tensor([[1., 2., 3., 4.],\n",
        "                  [2., 3., 4., 5.],\n",
        "                  [3., 4., 5., 6.]])\n",
        "empty_like = torch.empty_like(a)\n",
        "empty_like"
      ],
      "metadata": {
        "colab": {
          "base_uri": "https://localhost:8080/"
        },
        "id": "XIWkl8GsIRwg",
        "outputId": "6977262a-0b2d-42c9-dfae-9e943bdf8f2a"
      },
      "execution_count": 29,
      "outputs": [
        {
          "output_type": "execute_result",
          "data": {
            "text/plain": [
              "tensor([[ 9.0435e-30,  3.3159e-41,  9.0309e-30,  3.3159e-41],\n",
              "        [ 1.1210e-43,  0.0000e+00,  8.9683e-44,  0.0000e+00],\n",
              "        [-1.6371e+06,  3.3152e-41,  0.0000e+00,  0.0000e+00]])"
            ]
          },
          "metadata": {},
          "execution_count": 29
        }
      ]
    },
    {
      "cell_type": "code",
      "source": [
        "# Define a probability tensor\n",
        "probabilities = torch.tensor([0.1, 0.9])  # means 10% chance to get a 0, and 90% chance to get a 1.\n",
        "samples = torch.multinomial(probabilities, num_samples=100, replacement=True)\n",
        "print(samples)"
      ],
      "metadata": {
        "id": "ihmR_tcrMMWt",
        "outputId": "64a8592e-556b-45c2-8b51-14e9ebec0a48",
        "colab": {
          "base_uri": "https://localhost:8080/"
        }
      },
      "execution_count": 31,
      "outputs": [
        {
          "output_type": "stream",
          "name": "stdout",
          "text": [
            "tensor([1, 1, 1, 1, 1, 1, 1, 1, 1, 1, 1, 1, 1, 1, 1, 1, 1, 1, 1, 1, 1, 1, 1, 1,\n",
            "        1, 0, 0, 0, 1, 1, 1, 1, 1, 1, 1, 0, 1, 1, 0, 1, 1, 0, 1, 1, 1, 1, 1, 1,\n",
            "        1, 1, 1, 1, 1, 1, 1, 1, 1, 1, 0, 1, 1, 1, 1, 1, 1, 1, 1, 1, 1, 1, 1, 1,\n",
            "        1, 1, 1, 1, 1, 1, 1, 1, 1, 1, 1, 1, 1, 1, 1, 1, 1, 1, 0, 1, 1, 1, 1, 1,\n",
            "        1, 1, 1, 1])\n"
          ]
        }
      ]
    },
    {
      "cell_type": "code",
      "source": [
        "# concatenate two tensors\n",
        "A=torch.ones(2, 3)\n",
        "B=2*torch.ones(4, 3)\n",
        "C=torch.cat((A,B),dim=0)\n",
        "print(\"A= \", A)\n",
        "print(\"B =\", B)\n",
        "print(\"C =\", C)"
      ],
      "metadata": {
        "id": "ygByWWkmNONX",
        "outputId": "77288c69-553f-4839-b6ef-45a9db5e9b6e",
        "colab": {
          "base_uri": "https://localhost:8080/"
        }
      },
      "execution_count": 32,
      "outputs": [
        {
          "output_type": "stream",
          "name": "stdout",
          "text": [
            "A=  tensor([[1., 1., 1.],\n",
            "        [1., 1., 1.]])\n",
            "B = tensor([[2., 2., 2.],\n",
            "        [2., 2., 2.],\n",
            "        [2., 2., 2.],\n",
            "        [2., 2., 2.]])\n",
            "C = tensor([[1., 1., 1.],\n",
            "        [1., 1., 1.],\n",
            "        [2., 2., 2.],\n",
            "        [2., 2., 2.],\n",
            "        [2., 2., 2.],\n",
            "        [2., 2., 2.]])\n"
          ]
        }
      ]
    },
    {
      "cell_type": "code",
      "source": [
        "a = torch.tensor([1, 3, 5, 8])\n",
        "b = torch.tensor([2, 6, 7, 9])\n",
        "c = torch.tensor([5, 6, 3, 2])\n",
        "stacked = torch.stack([a, b, c], dim=0)\n",
        "stacked"
      ],
      "metadata": {
        "id": "ifhLshFMPX7o",
        "outputId": "45b52c16-9d5d-4937-c0da-9259bbf9d091",
        "colab": {
          "base_uri": "https://localhost:8080/"
        }
      },
      "execution_count": 33,
      "outputs": [
        {
          "output_type": "execute_result",
          "data": {
            "text/plain": [
              "tensor([[1, 3, 5, 8],\n",
              "        [2, 6, 7, 9],\n",
              "        [5, 6, 3, 2]])"
            ]
          },
          "metadata": {},
          "execution_count": 33
        }
      ]
    },
    {
      "cell_type": "code",
      "source": [
        "from torch.nn.utils.rnn import pad_sequence\n",
        "a = torch.tensor([1, 3, 5, 8])\n",
        "b = torch.tensor([2, 7, 9])\n",
        "c = torch.tensor([5, 2])\n",
        "padded = pad_sequence([a, b, c], batch_first=True)\n",
        "padded"
      ],
      "metadata": {
        "id": "W5MNkABo6ADn",
        "outputId": "d807deb9-b44b-4166-c0cf-0df85f223c88",
        "colab": {
          "base_uri": "https://localhost:8080/"
        }
      },
      "execution_count": 34,
      "outputs": [
        {
          "output_type": "execute_result",
          "data": {
            "text/plain": [
              "tensor([[1, 3, 5, 8],\n",
              "        [2, 7, 9, 0],\n",
              "        [5, 2, 0, 0]])"
            ]
          },
          "metadata": {},
          "execution_count": 34
        }
      ]
    },
    {
      "cell_type": "code",
      "source": [
        "padding_mask = padded.eq(0)\n",
        "padding_mask"
      ],
      "metadata": {
        "id": "KAUUopCA97bn",
        "outputId": "06cd13e8-41bb-4ca6-bc07-505c376125e5",
        "colab": {
          "base_uri": "https://localhost:8080/"
        }
      },
      "execution_count": null,
      "outputs": [
        {
          "output_type": "execute_result",
          "data": {
            "text/plain": [
              "tensor([[False, False, False, False],\n",
              "        [False, False, False,  True],\n",
              "        [False, False,  True,  True]])"
            ]
          },
          "metadata": {},
          "execution_count": 21
        }
      ]
    },
    {
      "cell_type": "code",
      "source": [
        "A = torch.tensor([[1., 2., 3., 4.],\n",
        "                  [2., 3., 4., 5.],\n",
        "                  [3., 4., 5., 6.]])\n",
        "A_T = A.transpose(-2, -1)\n",
        "A_T"
      ],
      "metadata": {
        "id": "IGV3GEl-PKDI",
        "outputId": "c1d1ae54-3b3d-453d-80d8-f8e3dcee216f",
        "colab": {
          "base_uri": "https://localhost:8080/"
        }
      },
      "execution_count": null,
      "outputs": [
        {
          "output_type": "execute_result",
          "data": {
            "text/plain": [
              "tensor([[1., 2., 3.],\n",
              "        [2., 3., 4.],\n",
              "        [3., 4., 5.],\n",
              "        [4., 5., 6.]])"
            ]
          },
          "metadata": {},
          "execution_count": 22
        }
      ]
    },
    {
      "cell_type": "code",
      "source": [
        "import torch.nn as nn\n",
        "sample = torch.tensor([10., 10., 10., 10.])\n",
        "linear = nn.Linear(4, 3, bias=True)\n",
        "print(linear(sample))"
      ],
      "metadata": {
        "id": "7Ql-vbzaQAmd",
        "outputId": "6487f83d-d72f-4c67-c848-f67b2ad59a5e",
        "colab": {
          "base_uri": "https://localhost:8080/"
        }
      },
      "execution_count": null,
      "outputs": [
        {
          "output_type": "stream",
          "name": "stdout",
          "text": [
            "tensor([-6.9280,  4.7998, -0.2741], grad_fn=<ViewBackward0>)\n"
          ]
        }
      ]
    },
    {
      "cell_type": "markdown",
      "source": [
        "## 2.3 Dot Product"
      ],
      "metadata": {
        "id": "A09XQP7C7a7G"
      }
    },
    {
      "cell_type": "code",
      "source": [
        "a = torch.tensor([1, 2, 3])\n",
        "b = torch.tensor([4, 5, 6])\n",
        "dot_product = torch.dot(a, b)\n",
        "dot_product"
      ],
      "metadata": {
        "id": "szw0M0PwjNvO",
        "outputId": "48d7262c-37c0-48b9-ea55-de241680dbed",
        "colab": {
          "base_uri": "https://localhost:8080/"
        }
      },
      "execution_count": null,
      "outputs": [
        {
          "output_type": "execute_result",
          "data": {
            "text/plain": [
              "tensor(32)"
            ]
          },
          "metadata": {},
          "execution_count": 24
        }
      ]
    },
    {
      "cell_type": "code",
      "source": [
        "print(\"Dot Product:\", dot_product.item())"
      ],
      "metadata": {
        "id": "315oGvP9lqYA",
        "outputId": "68de1e65-64a6-4ada-9e2f-a8140ff01b8e",
        "colab": {
          "base_uri": "https://localhost:8080/"
        }
      },
      "execution_count": null,
      "outputs": [
        {
          "output_type": "stream",
          "name": "stdout",
          "text": [
            "Dot Product: 32\n"
          ]
        }
      ]
    },
    {
      "cell_type": "code",
      "source": [
        "a = torch.tensor([[1, 2],\n",
        "                  [3, 4],\n",
        "                  [5, 6]])\n",
        "b = torch.tensor([[7,   8,  9],\n",
        "                  [10, 11, 12]])\n",
        "# print( a @ b )\n",
        "print(torch.matmul(a, b))\n"
      ],
      "metadata": {
        "id": "XyLVfD5f7ZQ6",
        "outputId": "fa081f53-7fc7-48ad-b506-5a032d7299f9",
        "colab": {
          "base_uri": "https://localhost:8080/"
        }
      },
      "execution_count": null,
      "outputs": [
        {
          "output_type": "stream",
          "name": "stdout",
          "text": [
            "tensor([[ 27,  30,  33],\n",
            "        [ 61,  68,  75],\n",
            "        [ 95, 106, 117]])\n"
          ]
        }
      ]
    },
    {
      "cell_type": "markdown",
      "source": [
        "## 2.4 Softmax"
      ],
      "metadata": {
        "id": "9s1VlNkDwsHW"
      }
    },
    {
      "cell_type": "code",
      "source": [
        "logits = torch.tensor([2.0, 5.0, 3.0])\n",
        "softmax = nn.functional.softmax(logits, dim=0)\n",
        "print(\"Logits:\", logits)\n",
        "print(\"Softmax:\", softmax)"
      ],
      "metadata": {
        "id": "rV-GI5NiwwhK",
        "outputId": "23fd70c4-689b-4c28-d90b-13c4a38e270f",
        "colab": {
          "base_uri": "https://localhost:8080/"
        }
      },
      "execution_count": null,
      "outputs": [
        {
          "output_type": "stream",
          "name": "stdout",
          "text": [
            "Logits: tensor([2., 5., 3.])\n",
            "Softmax: tensor([0.0420, 0.8438, 0.1142])\n"
          ]
        }
      ]
    },
    {
      "cell_type": "code",
      "source": [
        "a = torch.tensor([0., float('-inf')])\n",
        "torch.exp(a)"
      ],
      "metadata": {
        "id": "FDWVjY0RBmAi",
        "outputId": "e2e97fe2-2c23-451c-dc42-d04ba4c29326",
        "colab": {
          "base_uri": "https://localhost:8080/"
        }
      },
      "execution_count": null,
      "outputs": [
        {
          "output_type": "execute_result",
          "data": {
            "text/plain": [
              "tensor([1., 0.])"
            ]
          },
          "metadata": {},
          "execution_count": 28
        }
      ]
    },
    {
      "cell_type": "code",
      "source": [
        "A = torch.zeros(5, 5)\n",
        "mask = torch.tril(torch.ones(5, 5))\n",
        "print(\"mask=\\n\", mask)\n",
        "A = A.masked_fill(mask==0, float('-inf'))\n",
        "print(\"A=\\n\", A)"
      ],
      "metadata": {
        "id": "ixkgmTPnONlY",
        "outputId": "704f1ebc-24fb-415e-be8a-6b1bc750da69",
        "colab": {
          "base_uri": "https://localhost:8080/"
        }
      },
      "execution_count": null,
      "outputs": [
        {
          "output_type": "stream",
          "name": "stdout",
          "text": [
            "mask=\n",
            " tensor([[1., 0., 0., 0., 0.],\n",
            "        [1., 1., 0., 0., 0.],\n",
            "        [1., 1., 1., 0., 0.],\n",
            "        [1., 1., 1., 1., 0.],\n",
            "        [1., 1., 1., 1., 1.]])\n",
            "A=\n",
            " tensor([[0., -inf, -inf, -inf, -inf],\n",
            "        [0., 0., -inf, -inf, -inf],\n",
            "        [0., 0., 0., -inf, -inf],\n",
            "        [0., 0., 0., 0., -inf],\n",
            "        [0., 0., 0., 0., 0.]])\n"
          ]
        }
      ]
    },
    {
      "cell_type": "code",
      "source": [
        "nn.functional.softmax(A, dim=1)"
      ],
      "metadata": {
        "id": "8BuCHVRc749h",
        "outputId": "8d5e81d2-6ff3-4471-8b6a-dbedf6e5cd1c",
        "colab": {
          "base_uri": "https://localhost:8080/"
        }
      },
      "execution_count": null,
      "outputs": [
        {
          "output_type": "execute_result",
          "data": {
            "text/plain": [
              "tensor([[1.0000, 0.0000, 0.0000, 0.0000, 0.0000],\n",
              "        [0.5000, 0.5000, 0.0000, 0.0000, 0.0000],\n",
              "        [0.3333, 0.3333, 0.3333, 0.0000, 0.0000],\n",
              "        [0.2500, 0.2500, 0.2500, 0.2500, 0.0000],\n",
              "        [0.2000, 0.2000, 0.2000, 0.2000, 0.2000]])"
            ]
          },
          "metadata": {},
          "execution_count": 30
        }
      ]
    }
  ]
}